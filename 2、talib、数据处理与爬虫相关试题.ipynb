{
 "cells": [
  {
   "cell_type": "markdown",
   "metadata": {},
   "source": [
    "# 4. 数据计算与统计试题"
   ]
  },
  {
   "cell_type": "markdown",
   "metadata": {},
   "source": [
    "4.1计算股票600104与600518的相关系数、spearman排序相关性与30天滚动的五日收益协方差"
   ]
  },
  {
   "cell_type": "code",
   "execution_count": 1,
   "metadata": {
    "collapsed": true
   },
   "outputs": [],
   "source": [
    "import pandas as pd\n",
    "import numpy as np"
   ]
  },
  {
   "cell_type": "code",
   "execution_count": 2,
   "metadata": {
    "collapsed": true
   },
   "outputs": [],
   "source": [
    "stock1 = pd.read_excel('sz50.xlsx',sheetname='600104.XSHG',index_col='datetime')\n",
    "stock2 = pd.read_excel('sz50.xlsx',sheetname='600518.XSHG',index_col='datetime')\n",
    "concat = pd.concat([stock1.close.pct_change(5),stock2.close.pct_change(5)],keys=[\"stock1\",\"stock2\"],axis=1)"
   ]
  },
  {
   "cell_type": "code",
   "execution_count": 3,
   "metadata": {},
   "outputs": [
    {
     "name": "stdout",
     "output_type": "stream",
     "text": [
      "          stock1    stock2\n",
      "stock1  1.000000  0.348809\n",
      "stock2  0.348809  1.000000\n"
     ]
    }
   ],
   "source": [
    "print(concat.corr())"
   ]
  },
  {
   "cell_type": "code",
   "execution_count": 4,
   "metadata": {},
   "outputs": [
    {
     "name": "stdout",
     "output_type": "stream",
     "text": [
      "         stock1   stock2\n",
      "stock1  1.00000  0.38035\n",
      "stock2  0.38035  1.00000\n"
     ]
    }
   ],
   "source": [
    "spearman = concat.corr(method=\"spearman\")\n",
    "print(spearman)"
   ]
  },
  {
   "cell_type": "code",
   "execution_count": 5,
   "metadata": {},
   "outputs": [
    {
     "name": "stdout",
     "output_type": "stream",
     "text": [
      "                              stock1    stock2\n",
      "datetime                                      \n",
      "2017-11-16 15:00:00 stock1  0.001200  0.000289\n",
      "                    stock2  0.000289  0.000682\n",
      "2017-11-17 15:00:00 stock1  0.001196  0.000291\n",
      "                    stock2  0.000291  0.000710\n",
      "2017-11-20 15:00:00 stock1  0.001192  0.000318\n",
      "                    stock2  0.000318  0.000696\n"
     ]
    }
   ],
   "source": [
    "rol = concat.rolling(window=30).cov()\n",
    "print(rol.tail(6))"
   ]
  },
  {
   "cell_type": "markdown",
   "metadata": {},
   "source": [
    "4.2\n",
    "读取600104.XSHG的股票日线\n",
    "\n",
    "利用正确的方法将日K线聚合成周K线\n",
    "\n",
    "将周K线画出来"
   ]
  },
  {
   "cell_type": "code",
   "execution_count": 6,
   "metadata": {},
   "outputs": [],
   "source": [
    "stock1 = pd.read_excel('sz50.xlsx',sheetname='600104.XSHG',index_col='datetime')"
   ]
  },
  {
   "cell_type": "code",
   "execution_count": 7,
   "metadata": {},
   "outputs": [
    {
     "data": {
      "image/png": "[encoded data removed]",
      "text/plain": [
       "<matplotlib.figure.Figure at 0x10a66d4e0>"
      ]
     },
     "metadata": {},
     "output_type": "display_data"
    }
   ],
   "source": [
    "import matplotlib.pyplot as plt\n",
    "from matplotlib.pylab import date2num\n",
    "stock1week = stock1.resample('W').agg({'high':'max','low':'min','close':'last','open':'first'})\n",
    "stock1week['time'] = list(map(date2num, stock1week.index))\n",
    "candle = stock1week.reindex_axis([\"time\", \"open\", \"high\", \"low\", \"close\"], 1).values\n",
    "\n",
    "import matplotlib.finance as mpf\n",
    "\n",
    "fig, (ax) = plt.subplots(1,1, figsize=(15,12))\n",
    "fig.subplots_adjust(bottom=0.5)\n",
    "ax.grid(True)\n",
    "mpf.candlestick_ohlc(ax, candle, width=0.6, colorup='r', colordown='g',alpha=1.0)\n",
    "ax.xaxis_date ()\n",
    "plt.show()"
   ]
  },
  {
   "cell_type": "markdown",
   "metadata": {},
   "source": [
    "4.3 读取股票601857数据，计算股票回报率，判断样本在2017-01-01,到2017-12-31，有没有服从正态分布，并判断样本均值是否为0"
   ]
  },
  {
   "cell_type": "code",
   "execution_count": 8,
   "metadata": {},
   "outputs": [
    {
     "name": "stdout",
     "output_type": "stream",
     "text": [
      "判断样本分布不服从正态分布\n"
     ]
    }
   ],
   "source": [
    "from statsmodels.stats.stattools import jarque_bera\n",
    "stock3 = pd.read_excel('sz50.xlsx',sheetname='601857.XSHG',index_col='datetime')\n",
    "stock3[\"pec1\"] = stock3.close.pct_change()\n",
    "returns = stock3.pec1[1:]\n",
    "_, pvalue, _, _ = jarque_bera(returns)\n",
    "if pvalue > 0.05:\n",
    "    print ('判断样本分布服从正态分布')\n",
    "else:\n",
    "    print ('判断样本分布不服从正态分布')"
   ]
  },
  {
   "cell_type": "code",
   "execution_count": 9,
   "metadata": {},
   "outputs": [
    {
     "name": "stdout",
     "output_type": "stream",
     "text": [
      "判断样本均值为0\n"
     ]
    }
   ],
   "source": [
    "from scipy import stats\n",
    "t_test = stats.ttest_1samp(returns, 0)\n",
    "if t_test.pvalue > 0.05:\n",
    "    print ('判断样本均值为0')\n",
    "else:\n",
    "    print ('判断样本均值不为0')"
   ]
  },
  {
   "cell_type": "markdown",
   "metadata": {},
   "source": [
    "4.4用talib计算601901.XSHG以10天为周期的EMA，再算出DEMA，打印两个结果的最后5个数据"
   ]
  },
  {
   "cell_type": "code",
   "execution_count": 10,
   "metadata": {},
   "outputs": [
    {
     "name": "stdout",
     "output_type": "stream",
     "text": [
      "datetime\n",
      "2017-11-14 15:00:00    8.556962\n",
      "2017-11-15 15:00:00    8.544787\n",
      "2017-11-16 15:00:00    8.496644\n",
      "2017-11-17 15:00:00    8.426345\n",
      "2017-11-20 15:00:00    8.388828\n",
      "dtype: float64\n"
     ]
    }
   ],
   "source": [
    "import talib as ta\n",
    "stock4 = pd.read_excel('sz50.xlsx',sheetname='601901.XSHG',index_col='datetime')\n",
    "EMA10 = ta.EMA(stock4.close,timeperiod=10)\n",
    "print(EMA10.tail())"
   ]
  },
  {
   "cell_type": "code",
   "execution_count": 11,
   "metadata": {},
   "outputs": [
    {
     "name": "stdout",
     "output_type": "stream",
     "text": [
      "datetime\n",
      "2017-11-14 15:00:00    8.602581\n",
      "2017-11-15 15:00:00    8.572151\n",
      "2017-11-16 15:00:00    8.479642\n",
      "2017-11-17 15:00:00    8.354917\n",
      "2017-11-20 15:00:00    8.299691\n",
      "dtype: float64\n"
     ]
    }
   ],
   "source": [
    "DEMA = ta.DEMA(stock4.close,timeperiod=10)\n",
    "print(DEMA.tail())"
   ]
  },
  {
   "cell_type": "markdown",
   "metadata": {},
   "source": [
    "# 5.爬虫考试，随意爬取一个网站做你想做的数据分析，并用可视化手段展示​，最后不要直接展示html代码,可为pdf、excel等形式"
   ]
  },
  {
   "cell_type": "markdown",
   "metadata": {},
   "source": [
    "各类网站，如豆瓣网，雪球网，糗事百科及其它，内容只要不涉及相关禁令即可。\n",
    "\n",
    "optional（可对爬虫的内容做更多处理）"
   ]
  },
  {
   "cell_type": "code",
   "execution_count": null,
   "metadata": {
    "collapsed": true
   },
   "outputs": [],
   "source": []
  }
 ],
 "metadata": {
  "kernelspec": {
   "display_name": "Python 3",
   "language": "python",
   "name": "python3"
  },
  "language_info": {
   "codemirror_mode": {
    "name": "ipython",
    "version": 3
   },
   "file_extension": ".py",
   "mimetype": "text/x-python",
   "name": "python",
   "nbconvert_exporter": "python",
   "pygments_lexer": "ipython3",
   "version": "3.6.2"
  }
 },
 "nbformat": 4,
 "nbformat_minor": 2
}
